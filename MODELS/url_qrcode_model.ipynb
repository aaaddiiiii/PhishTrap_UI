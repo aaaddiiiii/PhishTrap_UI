{
 "cells": [
  {
   "cell_type": "code",
   "execution_count": 3,
   "id": "b6a724bb-bd18-4ba6-a22a-1882d7f8fde3",
   "metadata": {},
   "outputs": [
    {
     "name": "stdout",
     "output_type": "stream",
     "text": [
      "Defaulting to user installation because normal site-packages is not writeable\n",
      "Requirement already satisfied: tld in c:\\users\\sunil\\appdata\\roaming\\python\\python312\\site-packages (0.13)\n"
     ]
    }
   ],
   "source": [
    "!pip install tld\n"
   ]
  },
  {
   "cell_type": "code",
   "execution_count": 2,
   "id": "30b68ce8-a5c5-4cb0-859d-5843afbbfb7b",
   "metadata": {},
   "outputs": [
    {
     "name": "stdout",
     "output_type": "stream",
     "text": [
      "Class Distribution:\n",
      " label\n",
      "1    0.571895\n",
      "0    0.428105\n",
      "Name: proportion, dtype: float64\n",
      "Cross-Validation F1 Scores: [0.99571273 0.99589927 0.99573699 0.99548182 0.99608443]\n",
      "Mean F1 Score: 0.9957830474521963\n",
      "              precision    recall  f1-score   support\n",
      "\n",
      "           0       0.99      0.99      0.99     20189\n",
      "           1       1.00      1.00      1.00     26970\n",
      "\n",
      "    accuracy                           1.00     47159\n",
      "   macro avg       1.00      1.00      1.00     47159\n",
      "weighted avg       1.00      1.00      1.00     47159\n",
      "\n"
     ]
    }
   ],
   "source": [
    "import pandas as pd\n",
    "import numpy as np\n",
    "from urllib.parse import urlparse\n",
    "from sklearn.model_selection import train_test_split, StratifiedKFold, cross_val_score\n",
    "from sklearn.feature_extraction.text import TfidfVectorizer\n",
    "from sklearn.preprocessing import StandardScaler\n",
    "from sklearn.linear_model import LogisticRegression\n",
    "from sklearn.metrics import classification_report\n",
    "from scipy.sparse import hstack\n",
    "import joblib\n",
    "\n",
    "def extract_features(url):\n",
    "    parsed_url = urlparse(url)\n",
    "    \n",
    "    return [\n",
    "        len(url),  # URL Length\n",
    "        url.count('.'),  # Number of dots\n",
    "        url.count('-'),  # Hyphens in URL\n",
    "        url.count('@'),  # '@' symbol presence\n",
    "        url.count('?'),  # Query parameters\n",
    "        url.count('='),  # Equal signs\n",
    "        url.count('&'),  # Ampersands\n",
    "        sum(c.isdigit() for c in url) / len(url),  # Digit-to-length ratio\n",
    "        len(parsed_url.netloc.split('.')) - 2 if parsed_url.netloc else 0,  # Subdomains count\n",
    "        1 if parsed_url.scheme == 'https' else 0  # HTTPS usage\n",
    "    ]\n",
    "\n",
    "# Load dataset (Assuming CSV has columns: 'url', 'label')\n",
    "data = pd.read_csv('dataset.csv')\n",
    "\n",
    "# Check for class imbalance\n",
    "data_distribution = data['label'].value_counts(normalize=True)\n",
    "print(\"Class Distribution:\\n\", data_distribution)\n",
    "\n",
    "# Split dataset before feature extraction\n",
    "train_data, test_data = train_test_split(data, test_size=0.2, random_state=42, stratify=data['label'])\n",
    "\n",
    "# Extract features\n",
    "train_data['features'] = train_data['URL'].apply(extract_features)\n",
    "test_data['features'] = test_data['URL'].apply(extract_features)\n",
    "\n",
    "features_train = pd.DataFrame(train_data['features'].to_list())\n",
    "features_test = pd.DataFrame(test_data['features'].to_list())\n",
    "labels_train = train_data['label']\n",
    "labels_test = test_data['label']\n",
    "\n",
    "# Convert categorical URL into numerical values using TF-IDF with reduced features\n",
    "vectorizer = TfidfVectorizer(analyzer='char_wb', ngram_range=(3,5), max_features=5000)\n",
    "url_vectorized_train = vectorizer.fit_transform(train_data['URL'])\n",
    "url_vectorized_test = vectorizer.transform(test_data['URL'])\n",
    "\n",
    "# Combine extracted features with TF-IDF vectors using sparse matrices\n",
    "X_train = hstack((features_train.to_numpy(), url_vectorized_train))\n",
    "X_test = hstack((features_test.to_numpy(), url_vectorized_test))\n",
    "\n",
    "# Scale features\n",
    "scaler = StandardScaler(with_mean=False)  # Ensure compatibility with sparse matrices\n",
    "X_train_scaled = scaler.fit_transform(X_train)\n",
    "X_test_scaled = scaler.transform(X_test)\n",
    "\n",
    "# Train Logistic Regression model\n",
    "model = LogisticRegression(C=1, penalty='l2', solver='liblinear', class_weight='balanced')\n",
    "\n",
    "# Use cross-validation to check performance\n",
    "cv = StratifiedKFold(n_splits=5, shuffle=True, random_state=42)\n",
    "scores = cross_val_score(model, X_train_scaled, labels_train, cv=cv, scoring='f1')\n",
    "print(\"Cross-Validation F1 Scores:\", scores)\n",
    "print(\"Mean F1 Score:\", np.mean(scores))\n",
    "\n",
    "# Fit the model\n",
    "model.fit(X_train_scaled, labels_train)\n",
    "\n",
    "# Evaluate model\n",
    "y_pred = model.predict(X_test_scaled)\n",
    "print(classification_report(labels_test, y_pred))\n",
    "\n"
   ]
  },
  {
   "cell_type": "code",
   "execution_count": 3,
   "id": "9ce76267-5006-4d79-b524-02a60880b197",
   "metadata": {},
   "outputs": [
    {
     "data": {
      "text/plain": [
       "['D:/phishing_detection/PhishTrap_UI/MODELS/vectorizer.pkl']"
      ]
     },
     "execution_count": 3,
     "metadata": {},
     "output_type": "execute_result"
    }
   ],
   "source": [
    "joblib.dump(model, \"D:/phishing_detection/PhishTrap_UI/MODELS/phishing_model_url.pkl\")\n",
    "joblib.dump(scaler, 'D:/phishing_detection/PhishTrap_UI/MODELS/scaler.pkl')\n",
    "joblib.dump(vectorizer, 'D:/phishing_detection/PhishTrap_UI/MODELS/vectorizer.pkl')"
   ]
  },
  {
   "cell_type": "code",
   "execution_count": null,
   "id": "1e5f2029-1b06-4087-a930-a45224730d66",
   "metadata": {},
   "outputs": [],
   "source": []
  }
 ],
 "metadata": {
  "kernelspec": {
   "display_name": "Python 3 (ipykernel)",
   "language": "python",
   "name": "python3"
  },
  "language_info": {
   "codemirror_mode": {
    "name": "ipython",
    "version": 3
   },
   "file_extension": ".py",
   "mimetype": "text/x-python",
   "name": "python",
   "nbconvert_exporter": "python",
   "pygments_lexer": "ipython3",
   "version": "3.11.3"
  }
 },
 "nbformat": 4,
 "nbformat_minor": 5
}
