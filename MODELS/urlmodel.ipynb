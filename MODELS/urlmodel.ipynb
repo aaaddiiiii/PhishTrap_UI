{
 "cells": [
  {
   "cell_type": "code",
   "execution_count": 1,
   "id": "42f57d49-2f1d-4378-81d7-582ae796141c",
   "metadata": {},
   "outputs": [
    {
     "name": "stdout",
     "output_type": "stream",
     "text": [
      "              precision    recall  f1-score   support\n",
      "\n",
      "           0       0.97      0.89      0.93     20124\n",
      "           1       0.92      0.98      0.95     27035\n",
      "\n",
      "    accuracy                           0.94     47159\n",
      "   macro avg       0.95      0.94      0.94     47159\n",
      "weighted avg       0.95      0.94      0.94     47159\n",
      "\n"
     ]
    }
   ],
   "source": [
    "import pandas as pd\n",
    "from sklearn.model_selection import train_test_split\n",
    "from sklearn.linear_model import LogisticRegression\n",
    "from sklearn.preprocessing import StandardScaler\n",
    "from sklearn.metrics import classification_report\n",
    "from sklearn.decomposition import PCA\n",
    "import re\n",
    "from urllib.parse import urlparse\n",
    "\n",
    "df = pd.read_csv(\"dataset.csv\")\n",
    "\n",
    "df['url_length'] = df['URL'].apply(len)\n",
    "df['num_special_chars'] = df['URL'].apply(lambda x: len(re.findall(r'[@%&\\*\\$#\\?\\+\\!]', x)))\n",
    "df['has_https'] = df['URL'].apply(lambda x: 1 if 'https://' in x else 0)\n",
    "df['num_digits'] = df['URL'].apply(lambda x: sum(c.isdigit() for c in x))\n",
    "df['num_subdomains'] = df['URL'].apply(lambda x: urlparse(x).netloc.count('.'))\n",
    "\n",
    "X = df[['url_length', 'num_special_chars', 'has_https', 'num_digits', 'num_subdomains']]\n",
    "y = df['label']  # Label column with 'phishing' or 'non-phishing'\n",
    "\n",
    "scaler = StandardScaler()\n",
    "X_scaled = scaler.fit_transform(X)\n",
    "\n",
    "X_train, X_test, y_train, y_test = train_test_split(X_scaled, y, test_size=0.2, random_state=42)\n",
    "\n",
    "logreg = LogisticRegression()\n",
    "\n",
    "logreg.fit(X_train, y_train)\n",
    "\n",
    "y_pred = logreg.predict(X_test)\n",
    "\n",
    "\n",
    "print(classification_report(y_test, y_pred))\n"
   ]
  },
  {
   "cell_type": "code",
   "execution_count": 2,
   "id": "687796db-5b26-4799-a5e1-b84a89ab3f58",
   "metadata": {},
   "outputs": [
    {
     "name": "stdout",
     "output_type": "stream",
     "text": [
      "Model saved successfully!\n"
     ]
    },
    {
     "data": {
      "text/plain": [
       "['scaler_url.pkl']"
      ]
     },
     "execution_count": 2,
     "metadata": {},
     "output_type": "execute_result"
    }
   ],
   "source": [
    "import joblib\n",
    "\n",
    "joblib.dump(logreg, 'phishing_model_url.pkl')\n",
    "print(\"Model saved successfully!\")\n",
    "joblib.dump(scaler, \"scaler_url.pkl\")"
   ]
  },
  {
   "cell_type": "code",
   "execution_count": null,
   "id": "9a71d4cb-9f4f-4acb-b348-f2a0d8375507",
   "metadata": {},
   "outputs": [],
   "source": []
  }
 ],
 "metadata": {
  "kernelspec": {
   "display_name": "Python 3 (ipykernel)",
   "language": "python",
   "name": "python3"
  },
  "language_info": {
   "codemirror_mode": {
    "name": "ipython",
    "version": 3
   },
   "file_extension": ".py",
   "mimetype": "text/x-python",
   "name": "python",
   "nbconvert_exporter": "python",
   "pygments_lexer": "ipython3",
   "version": "3.11.3"
  }
 },
 "nbformat": 4,
 "nbformat_minor": 5
}
